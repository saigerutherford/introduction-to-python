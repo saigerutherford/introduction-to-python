{
 "cells": [
  {
   "cell_type": "markdown",
   "metadata": {
    "slideshow": {
     "slide_type": "slide"
    }
   },
   "source": [
    "# Basic Programming in Python\n",
    "Presented at [ISMRM 2021](https://www.ismrm.org/21m/) by [Saige Rutherford](https://www.beingsaige.com/)."
   ]
  },
  {
   "cell_type": "markdown",
   "metadata": {
    "slideshow": {
     "slide_type": "skip"
    }
   },
   "source": [
    "This notebook presents a very brief overview of the Python programming language, with a particular slant on tools and applications relevant for data science. It's assumed that the reader has at least a little bit of prior programming experience; the emphasis is primarily on (a) demonstrating how basic things are done in Python, and (b) reviewing the many strengths of Python (and okay, also a few weaknesses). This notebook was forked from [Tal Yarkoni's teaching materials](https://github.com/neurohackademy/introduction-to-python), and has been adapted for this course. "
   ]
  },
  {
   "cell_type": "markdown",
   "metadata": {},
   "source": [
    "## Install Instructions:\n",
    "\n",
    "Windows, Mac, Linux install options for setting up python on your own computer can be found [here](https://python.land/installing-python).\n",
    "\n",
    "In this tutorial we will not be using a python install on our own computer, because we are not in-person and therefore I cannot help you troubleshoot individual errors that can come up when installing on your own machine. We will be using python in the browser via [Google Colab](https://colab.research.google.com/notebooks/intro.ipynb). Hopefully you have followed the instructions for launching this notebook and are reading this message in Google Colab! "
   ]
  },
  {
   "cell_type": "markdown",
   "metadata": {
    "slideshow": {
     "slide_type": "slide"
    }
   },
   "source": [
    "## What is Python?\n",
    "\n",
    "* Python is a programming language\n",
    "* Specifically, it's a widely used, very flexible, high-level, general-purpose, dynamic programming language\n",
    "* That's a mouthful! Let's explore each of these points in more detail..."
   ]
  },
  {
   "cell_type": "markdown",
   "metadata": {
    "slideshow": {
     "slide_type": "subslide"
    }
   },
   "source": [
    "### Widely-used\n",
    "* Python is the fastest-growing major programming language\n",
    "* Top 3 overall (with JavaScript, Java) [source of these rankings](https://redmonk.com/sogrady/2021/03/01/language-rankings-1-21/)."
   ]
  },
  {
   "cell_type": "markdown",
   "metadata": {
    "slideshow": {
     "slide_type": "fragment"
    }
   },
   "source": [
    "<img src=\"https://redmonk.com/sogrady/files/2021/03/lang.rank_.0121.wm_.png\" width=\"800px\" style=\"margin-bottom: 10px;\">"
   ]
  },
  {
   "cell_type": "markdown",
   "metadata": {
    "slideshow": {
     "slide_type": "subslide"
    }
   },
   "source": [
    "### High-level\n",
    "Python features a high level of abstraction\n",
    "* Many operations that are explicit in lower-level languages (e.g., C/C++) are implicit in Python\n",
    "* E.g., memory allocation, garbage collection, etc.\n",
    "* Python lets you write code faster"
   ]
  },
  {
   "cell_type": "markdown",
   "metadata": {
    "slideshow": {
     "slide_type": "subslide"
    }
   },
   "source": [
    "#### File reading in Java\n",
    "```java\n",
    "import java.io.BufferedReader;\n",
    "import java.io.FileReader;\n",
    "import java.io.IOException;\n",
    " \n",
    "public class ReadFile {\n",
    "    public static void main(String[] args) throws IOException{\n",
    "        String fileContents = readEntireFile(\"./foo.txt\");\n",
    "    }\n",
    " \n",
    "    private static String readEntireFile(String filename) throws IOException {\n",
    "        FileReader in = new FileReader(filename);\n",
    "        StringBuilder contents = new StringBuilder();\n",
    "        char[] buffer = new char[4096];\n",
    "        int read = 0;\n",
    "        do {\n",
    "            contents.append(buffer, 0, read);\n",
    "            read = in.read(buffer);\n",
    "        } while (read >= 0);\n",
    "        return contents.toString();\n",
    "    }\n",
    "}\n",
    "```"
   ]
  },
  {
   "cell_type": "markdown",
   "metadata": {
    "slideshow": {
     "slide_type": "subslide"
    }
   },
   "source": [
    "#### File-reading in Python\n",
    "```python\n",
    "open(filename).read()\n",
    "```"
   ]
  },
  {
   "cell_type": "markdown",
   "metadata": {
    "slideshow": {
     "slide_type": "subslide"
    }
   },
   "source": [
    "### General-purpose\n",
    "You can do almost everything in Python\n",
    "* Comprehensive standard library\n",
    "* Enormous ecosystem of third-party packages\n",
    "* Widely used in many areas of software development (web, dev-ops, data science, etc.)"
   ]
  },
  {
   "cell_type": "markdown",
   "metadata": {
    "slideshow": {
     "slide_type": "subslide"
    }
   },
   "source": [
    "### Dynamic\n",
    "Code is interpreted at run-time\n",
    "* No compilation process*; code is read line-by-line when executed\n",
    "* Eliminates delays between development and execution\n",
    "* The downside: poorer performance compared to compiled languages"
   ]
  },
  {
   "cell_type": "markdown",
   "metadata": {
    "slideshow": {
     "slide_type": "slide"
    }
   },
   "source": [
    "## Variables and data types\n",
    "* In Python, we declare a variable by assigning it a value with the = sign\n",
    "    * Variables are pointers, not data stores!\n",
    "* Python supports a variety of data types and structures:\n",
    "    * booleans (True or False)\n",
    "    * numbers (ints, floats, etc.)\n",
    "    * strings\n",
    "    * lists \n",
    "    * dictionaries\n",
    "    * many others!\n",
    "* We don't specify a variable's type at assignment—Python uses [duck typing](https://en.wikipedia.org/wiki/Duck_typing)"
   ]
  },
  {
   "cell_type": "markdown",
   "metadata": {
    "slideshow": {
     "slide_type": "subslide"
    }
   },
   "source": [
    "### Basic types"
   ]
  },
  {
   "cell_type": "markdown",
   "metadata": {},
   "source": [
    "Variable naming convention: use lower case, separate words with an underscore"
   ]
  },
  {
   "cell_type": "code",
   "execution_count": 2,
   "metadata": {
    "slideshow": {
     "slide_type": "fragment"
    }
   },
   "outputs": [],
   "source": [
    "# An integer. Notice the variable naming convention.\n",
    "age_in_years = 28"
   ]
  },
  {
   "cell_type": "code",
   "execution_count": 3,
   "metadata": {
    "slideshow": {
     "slide_type": "fragment"
    }
   },
   "outputs": [],
   "source": [
    "# A float\n",
    "almost_pi = 3.14"
   ]
  },
  {
   "cell_type": "code",
   "execution_count": 4,
   "metadata": {
    "slideshow": {
     "slide_type": "fragment"
    }
   },
   "outputs": [],
   "source": [
    "# A string\n",
    "proton = \"P is for proton\""
   ]
  },
  {
   "cell_type": "code",
   "execution_count": 5,
   "metadata": {
    "slideshow": {
     "slide_type": "fragment"
    }
   },
   "outputs": [],
   "source": [
    "# A boolean takes on only the values True or False\n",
    "enjoying_tutorial = True"
   ]
  },
  {
   "cell_type": "code",
   "execution_count": 6,
   "metadata": {
    "slideshow": {
     "slide_type": "fragment"
    }
   },
   "outputs": [],
   "source": [
    "# None is a special type that means there's no value.\n",
    "# Note: it is *not* the same as False!\n",
    "# Note 2: functions that don't explicitly return a value\n",
    "# will instead return None.\n",
    "name = None"
   ]
  },
  {
   "cell_type": "markdown",
   "metadata": {
    "slideshow": {
     "slide_type": "subslide"
    }
   },
   "source": [
    "### Data structures\n",
    "* Most code requires more complex structures built out of basic data types\n",
    "* Python provides built-in support for many common structures\n",
    "    * Many additional structures can be found in the [collections](https://docs.python.org/3/library/collections.html) module"
   ]
  },
  {
   "cell_type": "markdown",
   "metadata": {
    "slideshow": {
     "slide_type": "subslide"
    }
   },
   "source": [
    "#### Lists\n",
    "* An ordered, heterogeneous collection of objects\n",
    "* List elements can be accessed by position\n",
    "* The syntax for creating a list is square brackets --> list = []\n",
    "    * Technically you can also declare a list like this: list = list() --> but the square brackets method is more common"
   ]
  },
  {
   "cell_type": "code",
   "execution_count": 7,
   "metadata": {
    "slideshow": {
     "slide_type": "fragment"
    }
   },
   "outputs": [],
   "source": [
    "random_stuff = ['proton', 28, proton, 10, age_in_years, 'another string'] # Fill the list with stuff!"
   ]
  },
  {
   "cell_type": "code",
   "execution_count": 8,
   "metadata": {
    "slideshow": {
     "slide_type": "fragment"
    }
   },
   "outputs": [
    {
     "data": {
      "text/plain": [
       "'proton'"
      ]
     },
     "execution_count": 8,
     "metadata": {},
     "output_type": "execute_result"
    }
   ],
   "source": [
    "# We index lists by numerical position--starting at 0\n",
    "random_stuff[0]"
   ]
  },
  {
   "cell_type": "code",
   "execution_count": 9,
   "metadata": {
    "slideshow": {
     "slide_type": "fragment"
    }
   },
   "outputs": [
    {
     "data": {
      "text/plain": [
       "[28, 'P is for proton', 10]"
      ]
     },
     "execution_count": 9,
     "metadata": {},
     "output_type": "execute_result"
    }
   ],
   "source": [
    "# We can also slice lists\n",
    "random_stuff[1:4]"
   ]
  },
  {
   "cell_type": "code",
   "execution_count": 10,
   "metadata": {
    "slideshow": {
     "slide_type": "fragment"
    }
   },
   "outputs": [],
   "source": [
    "# Append an element\n",
    "random_stuff.append('knowledge')"
   ]
  },
  {
   "cell_type": "code",
   "execution_count": 11,
   "metadata": {},
   "outputs": [
    {
     "data": {
      "text/plain": [
       "['proton', 28, 'P is for proton', 10, 28, 'another string', 'knowledge']"
      ]
     },
     "execution_count": 11,
     "metadata": {},
     "output_type": "execute_result"
    }
   ],
   "source": [
    "random_stuff"
   ]
  },
  {
   "cell_type": "markdown",
   "metadata": {
    "slideshow": {
     "slide_type": "subslide"
    }
   },
   "source": [
    "#### Tuples\n",
    "* Very similar to lists\n",
    "* Key difference: tuples are *immutable*\n",
    "    * They can't be modified once they're created\n",
    "* Syntax for declaring a tuple is with parentheses --> my_tuple = ()"
   ]
  },
  {
   "cell_type": "code",
   "execution_count": 12,
   "metadata": {
    "slideshow": {
     "slide_type": "fragment"
    }
   },
   "outputs": [],
   "source": [
    "random_tuple = ('proton', 28, proton)"
   ]
  },
  {
   "cell_type": "markdown",
   "metadata": {
    "slideshow": {
     "slide_type": "subslide"
    }
   },
   "source": [
    "#### Dictionaries (dict)\n",
    "* Unordered collection of key-to-value pairs\n",
    "* dict elements can be accessed by key, but *not* by position\n",
    "* Syntax for creating a dictionary is curly brackets --> my_dictionary = {}\n",
    "    * you could declare it like this: my_dictionary = dict() --> but again, the curly brackets method is more common"
   ]
  },
  {
   "cell_type": "code",
   "execution_count": 13,
   "metadata": {
    "slideshow": {
     "slide_type": "fragment"
    }
   },
   "outputs": [],
   "source": [
    "# A dictionary is an unordered mapping from keys to values\n",
    "fruit_prices = {\n",
    "    'apple': 0.65,\n",
    "    'mango': 1.50,\n",
    "    'strawberry': '$3/lb',\n",
    "    'durian': 'unavailable'\n",
    "}"
   ]
  },
  {
   "cell_type": "code",
   "execution_count": null,
   "metadata": {},
   "outputs": [],
   "source": [
    "# What's the price of a mango?\n",
    "fruit_prices[2]"
   ]
  },
  {
   "cell_type": "code",
   "execution_count": 18,
   "metadata": {
    "slideshow": {
     "slide_type": "fragment"
    }
   },
   "outputs": [
    {
     "data": {
      "text/plain": [
       "1.5"
      ]
     },
     "execution_count": 18,
     "metadata": {},
     "output_type": "execute_result"
    }
   ],
   "source": [
    "# What's the price of a mango?\n",
    "fruit_prices['mango']"
   ]
  },
  {
   "cell_type": "code",
   "execution_count": null,
   "metadata": {
    "slideshow": {
     "slide_type": "fragment"
    }
   },
   "outputs": [],
   "source": [
    "# Add a new entry for pears"
   ]
  },
  {
   "cell_type": "markdown",
   "metadata": {
    "slideshow": {
     "slide_type": "subslide"
    }
   },
   "source": [
    "### Everything is an object in Python\n",
    "* All of these 'data types' are actually just objects in Python\n",
    "* *Everything* is an object in Python!\n",
    "* The operations you can perform with a variable depend on the object's definition\n",
    "* E.g., the multiplication operator * is defined for some objects but not others"
   ]
  },
  {
   "cell_type": "code",
   "execution_count": null,
   "metadata": {
    "slideshow": {
     "slide_type": "fragment"
    }
   },
   "outputs": [],
   "source": [
    "# Multiply an int by 2"
   ]
  },
  {
   "cell_type": "code",
   "execution_count": null,
   "metadata": {
    "slideshow": {
     "slide_type": "fragment"
    }
   },
   "outputs": [],
   "source": [
    "# Multiply a float by 2"
   ]
  },
  {
   "cell_type": "code",
   "execution_count": null,
   "metadata": {
    "slideshow": {
     "slide_type": "fragment"
    }
   },
   "outputs": [],
   "source": [
    "# What about a string?"
   ]
  },
  {
   "cell_type": "code",
   "execution_count": null,
   "metadata": {
    "slideshow": {
     "slide_type": "fragment"
    }
   },
   "outputs": [],
   "source": [
    "# A list?"
   ]
  },
  {
   "cell_type": "code",
   "execution_count": null,
   "metadata": {
    "scrolled": true,
    "slideshow": {
     "slide_type": "fragment"
    }
   },
   "outputs": [],
   "source": [
    "# A dictionary?"
   ]
  },
  {
   "cell_type": "markdown",
   "metadata": {
    "slideshow": {
     "slide_type": "subslide"
    }
   },
   "source": [
    "## Control structures\n",
    "* Language features that allow us to control how code is executed\n",
    "* Iteration (e.g., for-loops, while statements...)\n",
    "* Conditionals (if-then-else statements)\n",
    "* [Etc](https://docs.python.org/3/tutorial/controlflow.html)..."
   ]
  },
  {
   "cell_type": "code",
   "execution_count": null,
   "metadata": {
    "slideshow": {
     "slide_type": "fragment"
    }
   },
   "outputs": [],
   "source": [
    "# Write an if-elif-else statement..."
   ]
  },
  {
   "cell_type": "code",
   "execution_count": null,
   "metadata": {
    "slideshow": {
     "slide_type": "fragment"
    }
   },
   "outputs": [],
   "source": [
    "# Loop over the random_stuff list we created earlier and print each value.\n",
    "# Alternatively, loop over integers and index into the random_stuff list."
   ]
  },
  {
   "cell_type": "code",
   "execution_count": null,
   "metadata": {
    "slideshow": {
     "slide_type": "fragment"
    }
   },
   "outputs": [],
   "source": [
    "# Now do the same thing as above, but with a list comprehension"
   ]
  },
  {
   "cell_type": "markdown",
   "metadata": {
    "slideshow": {
     "slide_type": "subslide"
    }
   },
   "source": [
    "## Namespaces and imports\n",
    "* Python is very serious about maintaining orderly namespaces\n",
    "* If you want to use some code outside the current scope, you need to explicitly \"import\" it\n",
    "* Python's import system often annoys beginners, but it substantially increases code clarity\n",
    "    * Almost completely eliminates naming conflicts and confusion\n",
    "    * If you know R, consider the horrors wreaked by liberal use of `attach()`"
   ]
  },
  {
   "cell_type": "code",
   "execution_count": null,
   "metadata": {
    "slideshow": {
     "slide_type": "fragment"
    }
   },
   "outputs": [],
   "source": [
    "# Three different ways to import and access the defaultdict class\n",
    "from collections import defaultdict\n",
    "a = defaultdict(list)"
   ]
  },
  {
   "cell_type": "code",
   "execution_count": null,
   "metadata": {
    "slideshow": {
     "slide_type": "fragment"
    }
   },
   "outputs": [],
   "source": [
    "from collections import defaultdict as dd\n",
    "b = dd(list)"
   ]
  },
  {
   "cell_type": "code",
   "execution_count": null,
   "metadata": {
    "slideshow": {
     "slide_type": "fragment"
    }
   },
   "outputs": [],
   "source": [
    "import collections\n",
    "c = collections.defaultdict(list)"
   ]
  },
  {
   "cell_type": "code",
   "execution_count": null,
   "metadata": {
    "slideshow": {
     "slide_type": "fragment"
    }
   },
   "outputs": [],
   "source": [
    "# # Verify that the resulting objects are equivalent\n",
    "a == b == c"
   ]
  },
  {
   "cell_type": "markdown",
   "metadata": {
    "slideshow": {
     "slide_type": "subslide"
    }
   },
   "source": [
    "## Functions\n",
    "* A block of code that only runs when explicitly called\n",
    "* Can accept arguments (or parameters) that alter its behavior\n",
    "* Can accept any number/type of inputs, but always return a single object\n",
    "    * Note: functions can return tuples (may *look like* multiple objects)"
   ]
  },
  {
   "cell_type": "code",
   "execution_count": null,
   "metadata": {
    "slideshow": {
     "slide_type": "fragment"
    }
   },
   "outputs": [],
   "source": [
    "# We'll need the random module for this\n",
    "import random\n",
    "\n",
    "def add_noise(x, mu, sd):\n",
    "    ''' Adds gaussian noise to the input.\n",
    "    \n",
    "    Parameters:\n",
    "        x (number): The number to add noise to\n",
    "        mu (float): The mean of the gaussian noise distribution\n",
    "        sd (float): The standard deviation of the noise distribution\n",
    "    \n",
    "    Returns: A float.\n",
    "    '''\n",
    "    noise = random.normalvariate(mu, sd)\n",
    "    return (x + noise)"
   ]
  },
  {
   "cell_type": "code",
   "execution_count": null,
   "metadata": {
    "slideshow": {
     "slide_type": "fragment"
    }
   },
   "outputs": [],
   "source": [
    "# Let's try calling it..."
   ]
  },
  {
   "cell_type": "markdown",
   "metadata": {
    "slideshow": {
     "slide_type": "subslide"
    }
   },
   "source": [
    "### Positional vs. keyword arguments\n",
    "* Positional arguments are defined by position and *must* be passed\n",
    "    * Arguments in the function signature are filled in order\n",
    "* Keyword arguments have a default value\n",
    "    * Arguments can be passed in arbitrary order (after any positional arguments)"
   ]
  },
  {
   "cell_type": "code",
   "execution_count": null,
   "metadata": {
    "slideshow": {
     "slide_type": "fragment"
    }
   },
   "outputs": [],
   "source": [
    "def add_noise_with_defaults(x, mu=0, sd=1):\n",
    "    ''' Adds gaussian noise to the input.\n",
    "    \n",
    "    Parameters:\n",
    "        x (number): The number to add noise to\n",
    "        mu (float): The mean of the gaussian noise distribution\n",
    "        sd (float): The standard deviation of the noise distribution\n",
    "    \n",
    "    Returns: A float.\n",
    "    '''\n",
    "    noise = random.normalvariate(mu, sd)\n",
    "    return x + noise"
   ]
  },
  {
   "cell_type": "code",
   "execution_count": null,
   "metadata": {
    "slideshow": {
     "slide_type": "fragment"
    }
   },
   "outputs": [],
   "source": [
    "# Let's call it again..."
   ]
  },
  {
   "cell_type": "markdown",
   "metadata": {
    "slideshow": {
     "slide_type": "subslide"
    }
   },
   "source": [
    "### Argument unpacking with *args and **kwargs\n",
    "* Sometimes functions need to accept arbitrary/unknown arguments\n",
    "* Python handles this elegantly via the `*args` and `**kwargs` conventions\n",
    "* `*args`: a list of all unassigned positional arguments\n",
    "* `**kwargs`: a dictionary of all unassigned keyword arguments\n",
    "* Note: the names `args` and `kwargs` are purely conventional"
   ]
  },
  {
   "cell_type": "code",
   "execution_count": null,
   "metadata": {
    "slideshow": {
     "slide_type": "fragment"
    }
   },
   "outputs": [],
   "source": [
    "def print_args_and_kwargs(*args, **kwargs):\n",
    "    print(\"Args:\", args)\n",
    "    print(\"Kwargs:\", kwargs)"
   ]
  },
  {
   "cell_type": "code",
   "execution_count": null,
   "metadata": {
    "slideshow": {
     "slide_type": "fragment"
    }
   },
   "outputs": [],
   "source": [
    "# Let's pass a bunch of arguments..."
   ]
  },
  {
   "cell_type": "markdown",
   "metadata": {
    "slideshow": {
     "slide_type": "subslide"
    }
   },
   "source": [
    "## Classes\n",
    "* A template for a particular kind of object\n",
    "* A class defines the variables an object contains and what it can do with them\n",
    "* To illustrate, let's define a `Circle` class...\n",
    "* Note: object-oriented programming can be a bit hard to understand at first, and we're moving quickly"
   ]
  },
  {
   "cell_type": "code",
   "execution_count": null,
   "metadata": {
    "slideshow": {
     "slide_type": "fragment"
    }
   },
   "outputs": [],
   "source": [
    "# We need pi!\n",
    "import math\n",
    "\n",
    "# Write a Circle class that takes a radius argument at initialization\n",
    "# and has area() and copy() instance methods that return the circle's\n",
    "# area and a copy of the circle, respectively.\n",
    "class Circle:\n",
    "    pass"
   ]
  },
  {
   "cell_type": "code",
   "execution_count": null,
   "metadata": {
    "slideshow": {
     "slide_type": "fragment"
    }
   },
   "outputs": [],
   "source": [
    "# Now let's make use of our class. First, initialize a new Circle."
   ]
  },
  {
   "cell_type": "code",
   "execution_count": null,
   "metadata": {
    "slideshow": {
     "slide_type": "fragment"
    }
   },
   "outputs": [],
   "source": [
    "# Now print the circle's radius."
   ]
  },
  {
   "cell_type": "code",
   "execution_count": null,
   "metadata": {
    "slideshow": {
     "slide_type": "fragment"
    }
   },
   "outputs": [],
   "source": [
    "# Assign a copy of the circle instance to a new variable."
   ]
  },
  {
   "cell_type": "markdown",
   "metadata": {
    "slideshow": {
     "slide_type": "subslide"
    }
   },
   "source": [
    "### Magic methods\n",
    "* Methods padded with `__` have a variety of special functions in Python\n",
    "* E.g., `__init__` and/or `__new__` are called when an object is initialized\n",
    "* All operators in Python are actually just cleverly-disguised method calls\n",
    "* E.g., the code `age_in_years * 2` is actually equivalent to `age_in_years.__mul__(2)`\n",
    "* Any object that implements the `__mul__` method can use the `*` operator"
   ]
  },
  {
   "cell_type": "code",
   "execution_count": null,
   "metadata": {
    "slideshow": {
     "slide_type": "fragment"
    }
   },
   "outputs": [],
   "source": [
    "# Multiply a circle by 2 and print the resulting circle's area.\n",
    "# Note: we'll need to add a magic method for __mul__ to our Circle class."
   ]
  },
  {
   "cell_type": "markdown",
   "metadata": {
    "slideshow": {
     "slide_type": "slide"
    }
   },
   "source": [
    "# Why do data science in Python?"
   ]
  },
  {
   "cell_type": "markdown",
   "metadata": {
    "slideshow": {
     "slide_type": "subslide"
    }
   },
   "source": [
    "## Easy to learn\n",
    "* Readable, explicit syntax\n",
    "* Most packages are very well documented\n",
    "    * e.g., scikit-learn's [documentation](http://scikit-learn.org/stable/documentation.html) is widely held up as a model\n",
    "* A huge number of tutorials, guides, and other educational materials"
   ]
  },
  {
   "cell_type": "markdown",
   "metadata": {
    "slideshow": {
     "slide_type": "subslide"
    }
   },
   "source": [
    "## Comprehensive standard library\n",
    "* The [Python standard library](https://docs.python.org/2/library/) contains a huge number of high-quality modules\n",
    "* When in doubt, check the standard library first before you write your own tools!\n",
    "* For example:\n",
    "    * os: operating system tools\n",
    "    * re: regular expressions\n",
    "    * collections: useful data structures\n",
    "    * multiprocessing: simple parallelization tools\n",
    "    * pickle: serialization\n",
    "    * json: reading and writing JSON"
   ]
  },
  {
   "cell_type": "markdown",
   "metadata": {
    "slideshow": {
     "slide_type": "subslide"
    }
   },
   "source": [
    "## Exceptional external libraries\n",
    "\n",
    "* Python has very good (often best-in-class) external packages for almost everything\n",
    "* Particularly important for data science, which draws on a very broad toolkit\n",
    "* Package management is easy (conda, pip)\n",
    "* Examples:\n",
    "    * Web development: flask, Django\n",
    "    * Database ORMs: SQLAlchemy, Django ORM (w/ adapters for all major DBs)\n",
    "    * Scraping/parsing text/markup: beautifulsoup, scrapy\n",
    "    * Natural language processing (NLP): nltk, gensim, textblob\n",
    "    * Numerical computation and data analysis: numpy, scipy, pandas, xarray\n",
    "    * Machine learning: scikit-learn, Tensorflow, keras\n",
    "    * Image processing: pillow, scikit-image, OpenCV\n",
    "    * Plotting: matplotlib, seaborn, altair, ggplot, Bokeh\n",
    "    * GUI development: pyQT, wxPython\n",
    "    * Testing: py.test\n",
    "    * Etc. etc. etc."
   ]
  },
  {
   "cell_type": "markdown",
   "metadata": {
    "slideshow": {
     "slide_type": "slide"
    }
   },
   "source": [
    "# Python vs. other data science languages\n",
    "\n",
    "* Python competes for mind share with many other languages\n",
    "* Most notably, R\n",
    "* To a lesser extent, Matlab, Mathematica, SAS, Julia, Java, Scala, etc."
   ]
  },
  {
   "cell_type": "markdown",
   "metadata": {
    "slideshow": {
     "slide_type": "subslide"
    }
   },
   "source": [
    "### R\n",
    "* [R](https://www.r-project.org/) is dominant in traditional statistics and some fields of science\n",
    "    * Has attracted many SAS, SPSS, and Stata users\n",
    "* Exceptional statistics support; hundreds of best-in-class libraries\n",
    "* Designed to make data analysis and visualization as easy as possible\n",
    "* Slow\n",
    "* Language quirks drive many experienced software developers crazy\n",
    "* Less support for most things non-data-related"
   ]
  },
  {
   "cell_type": "markdown",
   "metadata": {
    "slideshow": {
     "slide_type": "subslide"
    }
   },
   "source": [
    "### MATLAB\n",
    "* A proprietary numerical computing language widely used by engineers\n",
    "* Good performance and very active development, but expensive\n",
    "* Closed ecosystem, relatively few third-party libraries\n",
    "    * There is an open-source port (Octave)\n",
    "* Not suitable for use as a general-purpose language"
   ]
  },
  {
   "cell_type": "markdown",
   "metadata": {
    "slideshow": {
     "slide_type": "subslide"
    }
   },
   "source": [
    "## So, why Python?\n",
    "Why choose Python over other languages?\n",
    "* Arguably none of these offers the same combination of readability, flexibility, libraries, and performance\n",
    "* Python is sometimes described as \"the second best language for everything\"\n",
    "* Doesn't mean you should always use Python\n",
    "    * Depends on your needs, community, etc."
   ]
  },
  {
   "cell_type": "markdown",
   "metadata": {
    "slideshow": {
     "slide_type": "subslide"
    }
   },
   "source": [
    "## You can have your cake _and_ eat it!\n",
    "* Many languages--particularly R--now interface seamlessly with Python\n",
    "* You can work primarily in Python, fall back on R when you need it (or vice versa)\n",
    "* The best of all possible worlds?"
   ]
  },
  {
   "cell_type": "markdown",
   "metadata": {
    "slideshow": {
     "slide_type": "slide"
    }
   },
   "source": [
    "# The core Python data science stack\n",
    "* The Python ecosystem contains tens of thousands of packages\n",
    "* Several are very widely used in data science applications:\n",
    "    * [Jupyter](http://jupyter.org): interactive notebooks\n",
    "    * [Numpy](http://numpy.org): numerical computing in Python\n",
    "    * [Scipy](http://scipy.org): scientific Python tools\n",
    "    * [Matplotlib](http://matplotlib.org): plotting in Python\n",
    "    * [pandas](http://pandas.pydata.org/): data structures for Python\n",
    "    * [scikit-learn](http://scikit-learn.org): machine learning in Python\n",
    "* We'll cover the first two very briefly here\n",
    "    * Other tutorials will go into much greater detail on all of these"
   ]
  },
  {
   "cell_type": "markdown",
   "metadata": {
    "slideshow": {
     "slide_type": "slide"
    }
   },
   "source": [
    "# The Jupyter notebook\n",
    "* \"The [Jupyter Notebook](http://jupyter.org) is a web application that allows you to create and share documents that contain live code, equations, visualizations and explanatory text.\"\n",
    "    * You can [try it online](http://jupyter.org/try)\n",
    "* Formerly the IPython Notebook\n",
    "* Supports [many different languages](https://github.com/jupyter/jupyter/wiki/Jupyter-kernels)\n",
    "* A living document wrapped around a command prompt\n",
    "* Various extensions and [widgets](http://ipywidgets.readthedocs.io/en/latest/index.html)"
   ]
  },
  {
   "cell_type": "code",
   "execution_count": null,
   "metadata": {
    "slideshow": {
     "slide_type": "fragment"
    }
   },
   "outputs": [],
   "source": [
    "# We discuss what the following lines do elsewhere\n",
    "import numpy as np\n",
    "import matplotlib.pyplot as plt\n",
    "%matplotlib inline\n",
    "\n",
    "# Interactive widgets!\n",
    "from ipywidgets import interact\n",
    "import ipywidgets as widgets\n",
    "\n",
    "# Define our plotting function\n",
    "def plot_normal_hist(mu, sd):\n",
    "    samp = np.random.normal(mu, sd, size=10000)\n",
    "    plt.hist(samp, bins=100)\n",
    "    plt.xlim(-10, 20)\n",
    "\n",
    "# Hook up our plotting function to the interactive widget\n",
    "interact(plot_normal_hist, mu=5, sd=2);"
   ]
  },
  {
   "cell_type": "markdown",
   "metadata": {
    "slideshow": {
     "slide_type": "subslide"
    }
   },
   "source": [
    "## Why Jupyter?\n",
    "* An easy way to write and share completely reproducible documents\n",
    "* Combine code, results, and text in one place\n",
    "* You can mix languages\n",
    "* Completely interactive: make a change and see what happens\n",
    "* Execution order matters"
   ]
  },
  {
   "cell_type": "markdown",
   "metadata": {
    "slideshow": {
     "slide_type": "subslide"
    }
   },
   "source": [
    "### Slideshow mode\n",
    "* These slides are actually a live Jupyter notebook\n",
    "* We can edit and execute cells on-the-fly\n",
    "* The slideshow extension is installed separately; follow the instructions [here](https://github.com/damianavila/RISE)"
   ]
  },
  {
   "cell_type": "markdown",
   "metadata": {
    "slideshow": {
     "slide_type": "subslide"
    }
   },
   "source": [
    "### Built-in LaTeX support\n",
    "$$ F(k) = \\int_{-\\infty}^{\\infty} f(x) e^{2\\pi i k} dx $$"
   ]
  },
  {
   "cell_type": "markdown",
   "metadata": {
    "slideshow": {
     "slide_type": "subslide"
    }
   },
   "source": [
    "### Highly customizable\n",
    "* Custom key bindings\n",
    "* Supports [web standards](http://jupyter-notebook.readthedocs.io/en/stable/examples/Notebook/JavaScript%20Notebook%20Extensions.html#) that enable near-limitless customization via JavaScript\n",
    "* All kinds of [unofficial extensions](http://jupyter-contrib-nbextensions.readthedocs.io/en/latest/)"
   ]
  },
  {
   "cell_type": "markdown",
   "metadata": {
    "slideshow": {
     "slide_type": "subslide"
    }
   },
   "source": [
    "### Magic functions\n",
    "* Jupyter/IPython includes a number of [\"magic\" commands](http://ipython.readthedocs.io/en/stable/interactive/magics.html) to make life easier\n",
    "* Support in-line plotting, timing, debugging, calling other languages, etc."
   ]
  },
  {
   "cell_type": "code",
   "execution_count": null,
   "metadata": {
    "slideshow": {
     "slide_type": "fragment"
    }
   },
   "outputs": [],
   "source": [
    "# This line says we want plots displayed in cell output\n",
    "%matplotlib inline\n",
    "\n",
    "import matplotlib.pyplot as plt\n",
    "import numpy as np\n",
    "\n",
    "x = np.random.normal(size=100)\n",
    "y = np.random.normal(size=100)\n",
    "p = plt.scatter(x, y)"
   ]
  },
  {
   "cell_type": "markdown",
   "metadata": {
    "slideshow": {
     "slide_type": "subslide"
    }
   },
   "source": [
    "### Combining R and Python with the %R magic\n",
    "* In the same notebook\n",
    "* And even in the same notebook cell!\n",
    "* Can also use an [R kernel](https://irkernel.github.io/) with the notebook"
   ]
  },
  {
   "cell_type": "code",
   "execution_count": null,
   "metadata": {
    "slideshow": {
     "slide_type": "skip"
    }
   },
   "outputs": [],
   "source": [
    "# This cell won't work unless you've installed R and rpy2.\n",
    "# You can get R from CRAN (https://cloud.r-project.org/),\n",
    "# and install rpy2 with \"conda install rpy2\"\n",
    "%load_ext rpy2.ipython\n",
    "\n",
    "import seaborn as sns\n",
    "\n",
    "df = sns.load_dataset('tips')\n",
    "print(df.head())\n",
    "\n",
    "# RPy2 has some trouble with pandas categoricals, so convert them to objects\n",
    "for col in ['sex', 'smoker', 'day', 'time']:\n",
    "    df[col] = df[col].astype('object')\n",
    "\n",
    "%R -i df\n",
    "# Assumes that ggplot2 is installed in R!\n",
    "%R library(ggplot2)\n",
    "%R p = qplot(total_bill, tip, color=time, data=df) + geom_smooth(method='lm')\n",
    "%R print(p);"
   ]
  },
  {
   "cell_type": "markdown",
   "metadata": {
    "slideshow": {
     "slide_type": "skip"
    }
   },
   "source": [
    "### Cell vs. line magics\n",
    "* %R will let you write one line of R code into a Python cell\n",
    "* %%R turns the whole cell into R code"
   ]
  },
  {
   "cell_type": "code",
   "execution_count": null,
   "metadata": {
    "slideshow": {
     "slide_type": "skip"
    }
   },
   "outputs": [],
   "source": [
    "%%R\n",
    "x = rnorm(100)\n",
    "y = rnorm(100)\n",
    "print(qplot(x, y))\n",
    "print(summary(lm(y ~ x)))"
   ]
  },
  {
   "cell_type": "markdown",
   "metadata": {
    "slideshow": {
     "slide_type": "subslide"
    }
   },
   "source": [
    "### Getting help in Jupyter\n",
    "* Explore the options under the \"Help\" menu\n",
    "* Press the 'h' key (in cell mode) to see keyboard shortcuts\n",
    "* Shift-tab inside Python function calls will show you the function signature/arguments\n",
    "* Prefix any Python function with '?' to bring up its documentation\n",
    "* Prefix any command with '!' to run it as an operating system command (use sparingly!)"
   ]
  },
  {
   "cell_type": "code",
   "execution_count": null,
   "metadata": {
    "slideshow": {
     "slide_type": "fragment"
    }
   },
   "outputs": [],
   "source": [
    "# # Running this cell will pop up the documentation for\n",
    "# # numpy's reshape function\n",
    "import numpy as np\n",
    "?np.reshape"
   ]
  },
  {
   "cell_type": "markdown",
   "metadata": {
    "slideshow": {
     "slide_type": "slide"
    }
   },
   "source": [
    "# Summary\n",
    "* Python is the world's most popular dynamic programming language\n",
    "* It's increasing dominant in the world of data science\n",
    "* It's (relatively) easy to learn, performant, and has an enormous ecosystem\n",
    "* \"The second best language for everything\""
   ]
  },
  {
   "cell_type": "markdown",
   "metadata": {
    "slideshow": {
     "slide_type": "slide"
    }
   },
   "source": [
    "# Resources/further reading\n",
    "\n",
    "There are hundreds of excellent resources online for learning Python and/or data science. A few good ones:\n",
    "\n",
    "* CodeAcademy offers interactive programming courses for many languages and tools, including [Python](https://www.codecademy.com/learn/python) and [git](https://www.codecademy.com/learn/learn-git)\n",
    "* [A Whirlwind Tour of Python](http://www.oreilly.com/programming/free/files/a-whirlwind-tour-of-python.pdf) is an excellent intro to Python by [Jake VanderPlas](https://staff.washington.edu/jakevdp/); Jupyter notebooks are available [here](https://github.com/jakevdp/WhirlwindTourOfPython)\n",
    "* Another excellent and free online book is Allen Downey's [\"Think Python\"](http://greenteapress.com/wp/think-python-2e/)\n",
    "* Jake Vanderplas's [Python Data Science Handbook](https://github.com/jakevdp/PythonDataScienceHandbook) is also available online as a set of notebooks\n",
    "* Kaggle maintains a nice list of [data science and Python tutorials](https://www.kaggle.com/learn/overview)"
   ]
  }
 ],
 "metadata": {
  "celltoolbar": "Slideshow",
  "kernelspec": {
   "display_name": "Python 3",
   "language": "python",
   "name": "python3"
  },
  "language_info": {
   "codemirror_mode": {
    "name": "ipython",
    "version": 3
   },
   "file_extension": ".py",
   "mimetype": "text/x-python",
   "name": "python",
   "nbconvert_exporter": "python",
   "pygments_lexer": "ipython3",
   "version": "3.7.4"
  }
 },
 "nbformat": 4,
 "nbformat_minor": 4
}